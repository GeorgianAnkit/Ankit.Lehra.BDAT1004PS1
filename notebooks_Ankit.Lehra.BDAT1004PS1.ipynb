{
  "metadata": {
    "language_info": {
      "codemirror_mode": {
        "name": "python",
        "version": 3
      },
      "file_extension": ".py",
      "mimetype": "text/x-python",
      "name": "python",
      "nbconvert_exporter": "python",
      "pygments_lexer": "ipython3",
      "version": "3.8"
    },
    "kernelspec": {
      "name": "python",
      "display_name": "Python (Pyodide)",
      "language": "python"
    }
  },
  "nbformat_minor": 4,
  "nbformat": 4,
  "cells": [
    {
      "cell_type": "markdown",
      "source": "#Solution 1 C#\n5: Integer (int)\n5.0: Floating-point number (double)\n5 > 1: Boolean (bool)\n'5': Character (char)\n5 * 2: Integer (int)\n'5' * 2: results in a compilation error because we cannot multiply a character (‘5’) by an integer (2).\n'5' + '2': results in a compilation error because the ‘+’ operator is not defined for adding two characters, it is for adding strings.\n5 / 2: resultS in an integer division and the result would be reduced to an integer. The data type would be an Integer (int).\n5 % 2: Integer (int)\n{5, 2, 1}: an array of integers (int[]).\n5 == 3: Boolean (bool)\nPi (the number): Floating-point number (double)",
      "metadata": {}
    },
    {
      "cell_type": "markdown",
      "source": "#Solution 2 C#\na. \nstring word = \"Supercalifragilisticexpialidocious\";\nint letterCount = word.Length;\nConsole.WriteLine(\"Number of letters: \" + letterCount);\n\n#output:\nNumber of letters: 34\n\nb. \nstring word = \"Supercalifragilisticexpialidocious\";\nbool containsSubstring = word.Contains(\"ice\");\nConsole.WriteLine(\"Contains 'ice' substring: \" + containsSubstring);\n\n#output:\nContains 'ice' substring: True\n\nc.\nstring word1 = \"Supercalifragilisticexpialidocious\";\nstring word2 = \"Honorificabilitudinitatibus\";\nstring word3 = \"Bababadalgharaghtakamminarronnkonn\";\n\nstring longestWord = \"\";\nif (word1.Length > longestWord.Length)\n    longestWord = word1;\nif (word2.Length > longestWord.Length)\n    longestWord = word2;\nif (word3.Length > longestWord.Length)\n    longestWord = word3;\n\nConsole.WriteLine(\"Longest word: \" + longestWord);\n\n#output:\nLongest word: Bababadalgharaghtakamminarronnkonn\n\nd.\nstring[] composers = { \"Berlioz\", \"Borodin\", \"Brian\", \"Bartok\", \"Bellini\", \"Buxtehude\", \"Bernstein\" }; #array of strings\n\nArray.Sort(composers);\n\nstring firstComposer = composers[0];\nstring lastComposer = composers[composers.Length - 1];\n\nConsole.WriteLine(\"First composer: \" + firstComposer);\nConsole.WriteLine(\"Last composer: \" + lastComposer);\n\n#output:\nSorted composers:\nBartok\nBellini\nBerlioz\nBernstein\nBorodin\nBrian\nBuxtehude",
      "metadata": {}
    },
    {
      "cell_type": "markdown",
      "source": "#Solution 3 C#\n\nusing System;\n\nclass Program\n{\n    public static double TriangleArea(double a, double b, double c)\n    {\n        double s = (a + b + c) / 2.0;\n        double area = Math.Sqrt(s * (s - a) * (s - b) * (s - c));\n        return area;\n    }\n\n    static void Main()\n    {\n        double area = TriangleArea(2, 2, 2);\n        Console.WriteLine(area);\n    }\n}\n\n#output:\n1.7320508075688772",
      "metadata": {}
    },
    {
      "cell_type": "markdown",
      "source": "#Solution 4 C#\n\nusing System;\n\nclass Program\n{\n    static void Main()\n    {\n        Console.Write(\"Input the number of elements to be stored in the array: \");\n        int n = Convert.ToInt32(Console.ReadLine());\n\n        int[] numbers = new int[n];\n        int[] evenNumbers = new int[n];\n        int[] oddNumbers = new int[n];\n        int evenCount = 0;\n        int oddCount = 0;\n\n        Console.WriteLine($\"Input {n} elements in the array:\");\n\n        for (int i = 0; i < n; i++)\n        {\n            Console.Write($\"Element - {i} : \");\n            numbers[i] = Convert.ToInt32(Console.ReadLine());\n\n            if (numbers[i] % 2 == 0)\n            {\n                evenNumbers[evenCount] = numbers[i];\n                evenCount++;\n            }\n            else\n            {\n                oddNumbers[oddCount] = numbers[i];\n                oddCount++;\n            }\n        }\n\n        Console.WriteLine(\"The Even elements are: \" + GetElementsAsString(evenNumbers, evenCount));\n        Console.WriteLine(\"The Odd elements are : \" + GetElementsAsString(oddNumbers, oddCount));\n    }\n\n    static string GetElementsAsString(int[] array, int count)\n    {\n        string elements = \"\";\n        for (int i = 0; i < count; i++)\n        {\n            elements += array[i] + \" \";\n        }\n        return elements;\n    }\n}\n\n#Output:\nInput the number of elements to be stored in the array: 5\nInput 5 elements in the array:\nElement - 0 : 25\nElement - 1 : 47\nElement - 2 : 42\nElement - 3 : 56\nElement - 4 : 32\nThe Even elements are: 42 56 32\nThe Odd elements are : 25 47",
      "metadata": {}
    },
    {
      "cell_type": "markdown",
      "source": "#Solution 5 C#\ndef inside(x, y, x1, y1, x2, y2):\n    return x1 <= x <= x2 and y1 <= y <= y2\n\nresult1 = inside(1, 1, 0, 0, 2, 3)\nprint(result1) \nresult2 = inside(-1, -1, 0, 0, 2, 3)\nprint(result2)  \npoint_in_rectangles = inside(1, 1, 0.3, 0.5, 1.1, 0.7) and inside(1, 1, 0.5, 0.2, 1.1, 2)\nprint(point_in_rectangles)  \n\n#Output:\nTrue\nFalse\nFalse",
      "metadata": {}
    },
    {
      "cell_type": "code",
      "source": "#Solution 6 python\ndef pig(word):\n    vowels = ['a', 'e', 'i', 'o', 'u']\n    word = word.lower()\n    \n    if word[0] in vowels:\n        return word + 'way'\n    else:\n        return word[1:] + word[0] + 'ay'\n\nword = input(\"Enter a word: \")\n\npig_latin = pig(word)\n\nprint(\"Pig Latin word:\", pig_latin)\n\n#Output\npig('happy') 'appyhay'\npig('Enter') 'enterway'  \n",
      "metadata": {
        "trusted": true
      },
      "execution_count": null,
      "outputs": []
    },
    {
      "cell_type": "code",
      "source": "#Solution 7 Python\ndef bloodcount(filepath):\n    blood_counts = {\n        'A': 0,\n        'B': 0,\n        'AB': 0,\n        'O': 0,\n        'OO': 0\n    }\n\nwith open(filepath, 'r') as file:\n        blood_types = file.read().split()\n\nfor blood_type in blood_types:\n    if blood_type in blood_counts:\n        blood_counts[blood_type] += 1\n\nfor blood_type, count in blood_counts.items():\n    if count == 1:\n        print(f\"There is one patient of blood type {blood_type}.\")\n    else:\n        print(f\"There are {count} patients of blood type {blood_type}.\")\n\n\n# Usage example with file path\nbloodcount('C:\\Users\\ankit\\Downloads\\bloodtype.txt')",
      "metadata": {
        "trusted": true
      },
      "execution_count": null,
      "outputs": []
    },
    {
      "cell_type": "code",
      "source": "#Solution 8 Pytton\ndef curconv(currency, amount):\n    with open(''C:\\Users\\ankit\\Downloads\\currencies.txt', 'r') as file:\n        for line in file.readlines():\n            data = line.split()  \n            if data[0] == currency:\n                return amount * float(data[1])  \n        return None  # return None if the currency was not found in the file\n\nprint(curconv('EUR', 100))  \nprint(curconv('JPY', 100))  \n              \n#output: 122.96544\n        # 1.241401     ",
      "metadata": {
        "trusted": true
      },
      "execution_count": null,
      "outputs": []
    },
    {
      "cell_type": "code",
      "source": "#Solution 9 Python\nthe types of exceptions (errors) each scenario will cause in Python:\n\nTrying to add incompatible variables, as in adding 6 + 'a': TypeError. Python cannot add an integer to a string or vice versa.\n\nReferring to the 12th item of a list that has only 10 items: IndexError. The index is out of the range of valid indices for that list.\n\nUsing a value that is out of range for a function's input, such as calling math.sqrt(-1.0): ValueError. The math.sqrt() function does not accept negative arguments.\n\nUsing an undeclared variable, such as print(x) when x has not been defined: NameError. The variable x is not defined before it's used in the print statement.\n\nTrying to open a file that does not exist, such as mistyping the file name or looking in the wrong directory: FileNotFoundError. Python cannot find the file in the directory or either the filename is incorrect.",
      "metadata": {
        "trusted": true
      },
      "execution_count": null,
      "outputs": []
    },
    {
      "cell_type": "code",
      "source": "#Solution 10 Pyhton\ndef frequencies(text):\n    letters = 'abcdefghijklmnopqrstuvwxyz'\n    text = text.lower()  # Convert the text to lowercase to handle case-insensitivity\n    freq_list = [0] * 26  # Initialize a list of zeros to store the frequencies\n\n    for char in text:\n        if char in letters:\n            index = letters.index(char)  # Get the index of the character in the letters string\n            freq_list[index] += 1\n\n    return freq_list\n\n# Take input from the user\ninput_text = input(\"Enter a line of text: \")\nresult = frequencies(input_text)\nprint(result)",
      "metadata": {
        "trusted": true
      },
      "execution_count": null,
      "outputs": []
    }
  ]
}